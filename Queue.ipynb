{
 "cells": [
  {
   "cell_type": "markdown",
   "id": "9f0cf668",
   "metadata": {},
   "source": [
    "# Queue"
   ]
  },
  {
   "cell_type": "code",
   "execution_count": null,
   "id": "5d25b483",
   "metadata": {},
   "outputs": [],
   "source": [
    "import unittest"
   ]
  },
  {
   "cell_type": "code",
   "execution_count": null,
   "id": "d26ac34d",
   "metadata": {},
   "outputs": [],
   "source": [
    "class Queue:\n",
    "    def __init__(self):\n",
    "        \"\"\"Initialize an empty queue.\"\"\"\n",
    "        self.items = []\n",
    "\n",
    "    def is_empty(self):\n",
    "        \"\"\"Check if the queue is empty.\"\"\"\n",
    "        return len(self.items) == 0\n",
    "\n",
    "    def enqueue(self, item):\n",
    "        \"\"\"Add an item to the rear of the queue.\"\"\"\n",
    "        self.items.append(item)\n",
    "\n",
    "    def dequeue(self):\n",
    "        \"\"\"Remove and return the front item of the queue.\"\"\"\n",
    "        if self.is_empty():\n",
    "            raise IndexError(\"dequeue from empty queue\")\n",
    "        return self.items.pop(0)\n",
    "\n",
    "    def peek(self):\n",
    "        \"\"\"Return the front item without removing it.\"\"\"\n",
    "        if self.is_empty():\n",
    "            raise IndexError(\"peek from empty queue\")\n",
    "        return self.items[0]\n",
    "\n",
    "    def size(self):\n",
    "        \"\"\"Return the number of items in the queue.\"\"\"\n",
    "        return len(self.items)\n",
    "\n",
    "    def __str__(self):\n",
    "        \"\"\"String representation of the queue.\"\"\"\n",
    "        return \"Queue: \" + \" -> \".join(map(str, self.items))\n",
    "\n",
    "\n"
   ]
  },
  {
   "cell_type": "markdown",
   "id": "b872b0cc",
   "metadata": {},
   "source": [
    "## Manual Testing (Evaluating with examples)"
   ]
  },
  {
   "cell_type": "code",
   "execution_count": null,
   "id": "ffe6cb4c",
   "metadata": {},
   "outputs": [],
   "source": [
    "if __name__ == \"__main__\":\n",
    "    q = Queue()\n",
    "    print(q)\n",
    "\n",
    "    q.enqueue(12)\n",
    "    q.enqueue(-200)\n",
    "    q.enqueue(3300)\n",
    "\n",
    "    print(q)  # Queue: 12 -> -200 -> 3300\n",
    "\n",
    "    print(\"Front item:\", q.peek())  # should be 12\n",
    "    print(\"Dequeued:\", q.dequeue())  # should be 12\n",
    "    print(\"After dequeue:\", q)  # Queue: -200 -> 3300\n",
    "\n",
    "    print(\"Size:\", q.size())  # 2\n",
    "    print(\"Is empty?\", q.is_empty())  # should be False\n",
    "\n",
    "    q.dequeue()\n",
    "    q.dequeue()\n",
    "    print(\"Is empty after removing all?\", q.is_empty())  # should be True\n"
   ]
  },
  {
   "cell_type": "markdown",
   "id": "7745f6e8",
   "metadata": {},
   "source": [
    "## Automated Testing"
   ]
  },
  {
   "cell_type": "code",
   "execution_count": null,
   "id": "f8a664eb",
   "metadata": {},
   "outputs": [],
   "source": [
    "class TestQueue(unittest.TestCase):\n",
    "    def setUp(self):\n",
    "        self.queue = Queue()\n",
    "\n",
    "    def test_is_empty_on_init(self):\n",
    "        self.assertTrue(self.queue.is_empty())\n",
    "\n",
    "    def test_enqueue(self):\n",
    "        self.queue.enqueue(1)\n",
    "        self.assertEqual(self.queue.peek(), 1)\n",
    "        self.assertFalse(self.queue.is_empty())\n",
    "\n",
    "    def test_dequeue(self):\n",
    "        self.queue.enqueue(5)\n",
    "        self.queue.enqueue(10)\n",
    "        item = self.queue.dequeue()\n",
    "        self.assertEqual(item, 5)\n",
    "        self.assertEqual(self.queue.peek(), 10)\n",
    "\n",
    "    def test_peek(self):\n",
    "        self.queue.enqueue(99)\n",
    "        self.assertEqual(self.queue.peek(), 99)\n",
    "        self.assertEqual(self.queue.size(), 1)\n",
    "\n",
    "    def test_size(self):\n",
    "        self.assertEqual(self.queue.size(), 0)\n",
    "        self.queue.enqueue(1)\n",
    "        self.queue.enqueue(2)\n",
    "        self.assertEqual(self.queue.size(), 2)\n",
    "\n",
    "    def test_dequeue_empty(self):\n",
    "        with self.assertRaises(IndexError):\n",
    "            self.queue.dequeue()\n",
    "\n",
    "    def test_peek_empty(self):\n",
    "        with self.assertRaises(IndexError):\n",
    "            self.queue.peek()\n",
    "\n",
    "if __name__ == \"__main__\":\n",
    "    unittest.main()\n"
   ]
  }
 ],
 "metadata": {
  "language_info": {
   "name": "python"
  }
 },
 "nbformat": 4,
 "nbformat_minor": 5
}
