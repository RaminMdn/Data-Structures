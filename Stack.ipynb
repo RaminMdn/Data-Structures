{
 "cells": [
  {
   "cell_type": "markdown",
   "id": "db1a9952",
   "metadata": {},
   "source": [
    "# 3. Stack"
   ]
  },
  {
   "cell_type": "code",
   "execution_count": null,
   "id": "9cda496e",
   "metadata": {},
   "outputs": [],
   "source": [
    "class Stack:\n",
    "    def __init__(self):\n",
    "        self.items = []\n",
    "\n",
    "    def push(self, item):\n",
    "        \"\"\"Add item to the top of the stack.\"\"\"\n",
    "        self.items.append(item)\n",
    "\n",
    "    def pop(self):\n",
    "        \"\"\"Remove and return the top item.\"\"\"\n",
    "        if self.is_empty():\n",
    "            raise IndexError(\"pop from empty stack\")\n",
    "        return self.items.pop()\n",
    "\n",
    "    def peek(self):\n",
    "        \"\"\"Return the top item without removing it.\"\"\"\n",
    "        if self.is_empty():\n",
    "            raise IndexError(\"peek from empty stack\")\n",
    "        return self.items[-1]\n",
    "\n",
    "    def is_empty(self):\n",
    "        \"\"\"Check if the stack is empty.\"\"\"\n",
    "        return len(self.items) == 0\n",
    "\n",
    "    def size(self):\n",
    "        \"\"\"Return the number of items in the stack.\"\"\"\n",
    "        return len(self.items)\n",
    "\n",
    "    def __len__(self):\n",
    "        return self.size()\n",
    "\n",
    "    def __str__(self):\n",
    "        return \"Stack(top -> bottom): \" + \" -> \".join(map(str, reversed(self.items)))\n",
    "\n"
   ]
  },
  {
   "cell_type": "markdown",
   "id": "cecb61a9",
   "metadata": {},
   "source": [
    "To test:"
   ]
  },
  {
   "cell_type": "code",
   "execution_count": null,
   "id": "0a80a5f4",
   "metadata": {},
   "outputs": [
    {
     "name": "stdout",
     "output_type": "stream",
     "text": [
      "Stack(top -> bottom): 30 -> 20 -> 10\n",
      "Peek: 30\n",
      "Pop: 30\n",
      "After pop: Stack(top -> bottom): 20 -> 10\n",
      "Size: 2\n",
      "Empty? False\n",
      "Empty after clearing? True\n"
     ]
    }
   ],
   "source": [
    "if __name__ == \"__main__\":\n",
    "    s = Stack()\n",
    "    s.push(10)\n",
    "    s.push(20)\n",
    "    s.push(30)\n",
    "\n",
    "    print(s)                    # Stack(top -> bottom): 30 -> 20 -> 10\n",
    "    print(\"Peek:\", s.peek())    # 30\n",
    "    print(\"Pop:\", s.pop())      # 30\n",
    "    print(\"After pop:\", s)      # Stack(top -> bottom): 20 -> 10\n",
    "    print(\"Size:\", len(s))      # 2\n",
    "    print(\"Empty?\", s.is_empty())  # False\n",
    "\n",
    "    s.pop()\n",
    "    s.pop()\n",
    "    print(\"Empty after clearing?\", s.is_empty())  # True\n",
    "\n",
    "    # Uncomment to test error\n",
    "    # s.pop()  # Should raise IndexError\n"
   ]
  },
  {
   "cell_type": "markdown",
   "id": "f10b0f79",
   "metadata": {},
   "source": [
    "To test using unit tests and unittest module"
   ]
  },
  {
   "cell_type": "code",
   "execution_count": null,
   "id": "439f1e1b",
   "metadata": {},
   "outputs": [
    {
     "name": "stderr",
     "output_type": "stream",
     "text": [
      "............\n",
      "----------------------------------------------------------------------\n",
      "Ran 12 tests in 0.010s\n",
      "\n",
      "OK\n"
     ]
    }
   ],
   "source": [
    "import unittest\n",
    "#from stack import Stack\n",
    "\n",
    "class TestStack(unittest.TestCase):\n",
    "\n",
    "    def setUp(self):\n",
    "        self.stack = Stack()\n",
    "        self.stack.push(1)\n",
    "        self.stack.push(2)\n",
    "        self.stack.push(3)\n",
    "\n",
    "    def test_push(self):\n",
    "        self.assertEqual(str(self.stack), \"Stack(top -> bottom): 3 -> 2 -> 1\")\n",
    "\n",
    "    def test_pop(self):\n",
    "        top = self.stack.pop()\n",
    "        self.assertEqual(top, 3)\n",
    "        self.assertEqual(str(self.stack), \"Stack(top -> bottom): 2 -> 1\")\n",
    "\n",
    "    def test_peek(self):\n",
    "        self.assertEqual(self.stack.peek(), 3)\n",
    "        self.stack.pop()\n",
    "        self.assertEqual(self.stack.peek(), 2)\n",
    "\n",
    "    def test_is_empty(self):\n",
    "        self.assertFalse(self.stack.is_empty())\n",
    "        self.stack.pop()\n",
    "        self.stack.pop()\n",
    "        self.stack.pop()\n",
    "        self.assertTrue(self.stack.is_empty())\n",
    "\n",
    "    def test_size(self):\n",
    "        self.assertEqual(self.stack.size(), 3)\n",
    "        self.stack.pop()\n",
    "        self.assertEqual(len(self.stack), 2)\n",
    "\n",
    "    def test_pop_empty_error(self):\n",
    "        self.stack.pop()\n",
    "        self.stack.pop()\n",
    "        self.stack.pop()\n",
    "        with self.assertRaises(IndexError):\n",
    "            self.stack.pop()\n",
    "\n",
    "    def test_peek_empty_error(self):\n",
    "        self.stack.pop()\n",
    "        self.stack.pop()\n",
    "        self.stack.pop()\n",
    "        with self.assertRaises(IndexError):\n",
    "            self.stack.peek()\n",
    "\n",
    "if __name__ == \"__main__\":\n",
    "    unittest.main(argv=[''], exit=False)\n",
    "#    unittest.main()  # run if it is in a separate environment. in Notebook this won't run correctly.\n"
   ]
  }
 ],
 "metadata": {
  "language_info": {
   "name": "python"
  }
 },
 "nbformat": 4,
 "nbformat_minor": 5
}
