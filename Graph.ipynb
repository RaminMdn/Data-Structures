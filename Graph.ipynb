{
 "cells": [
  {
   "cell_type": "markdown",
   "id": "53992da0",
   "metadata": {},
   "source": [
    "# Graph\n",
    "\n",
    "The following exist in this file:\n",
    "\n",
    "- Directed Graph (using Adjacency List)\n",
    "- Undirected Graph (using Adjacency List)\n",
    "- Directed Graph (using Adjacency Matrix)"
   ]
  },
  {
   "cell_type": "markdown",
   "id": "5ebf661d",
   "metadata": {},
   "source": [
    "## Directed Graph (using Adjacency List)\n",
    "\n",
    "Here a class is implemented for a directed graph using an adjacency list. It has methods like:\n",
    "\n",
    "- add_vertex()\n",
    "- add_edge()\n",
    "- remove_vertex()\n",
    "- remove_edge()\n",
    "- has_edge()\n",
    "- get_neighbors()\n",
    "\n",
    "### Graph Class Implementation"
   ]
  },
  {
   "cell_type": "code",
   "execution_count": 14,
   "id": "60977565",
   "metadata": {},
   "outputs": [],
   "source": [
    "import unittest"
   ]
  },
  {
   "cell_type": "code",
   "execution_count": null,
   "id": "95ebec32",
   "metadata": {},
   "outputs": [],
   "source": [
    "class Graph:\n",
    "    def __init__(self):\n",
    "        \"\"\"Initialize an empty graph (directed).\"\"\"\n",
    "        self.adjacency_list = {}\n",
    "\n",
    "    def add_vertex(self, vertex):\n",
    "        \"\"\"Add a vertex to the graph.\"\"\"\n",
    "        if vertex not in self.adjacency_list:\n",
    "            self.adjacency_list[vertex] = []\n",
    "\n",
    "    def add_edge(self, src, dest):\n",
    "        \"\"\"Add a directed edge from src to dest.\"\"\"\n",
    "        if src not in self.adjacency_list:\n",
    "            self.add_vertex(src)\n",
    "        if dest not in self.adjacency_list:\n",
    "            self.add_vertex(dest)\n",
    "        self.adjacency_list[src].append(dest)\n",
    "\n",
    "    def remove_edge(self, src, dest):\n",
    "        \"\"\"Remove an edge from src to dest.\"\"\"\n",
    "        if src in self.adjacency_list and dest in self.adjacency_list[src]:\n",
    "            self.adjacency_list[src].remove(dest)\n",
    "\n",
    "    def remove_vertex(self, vertex):\n",
    "        \"\"\"Remove a vertex and all edges to and from it.\"\"\"\n",
    "        if vertex in self.adjacency_list:\n",
    "            del self.adjacency_list[vertex]\n",
    "        for neighbors in self.adjacency_list.values():\n",
    "            if vertex in neighbors:\n",
    "                neighbors.remove(vertex)\n",
    "\n",
    "    def has_edge(self, src, dest):\n",
    "        \"\"\"Check if an edge exists from src to dest.\"\"\"\n",
    "        return src in self.adjacency_list and dest in self.adjacency_list[src]\n",
    "\n",
    "    def get_neighbors(self, vertex):\n",
    "        \"\"\"Return the neighbors of a given vertex.\"\"\"\n",
    "        return self.adjacency_list.get(vertex, [])\n",
    "\n",
    "    def get_vertices(self):\n",
    "        \"\"\"Return a list of all vertices in the graph.\"\"\"\n",
    "        return list(self.adjacency_list.keys())\n",
    "\n",
    "    def __str__(self):\n",
    "        \"\"\"Return a string representation of the graph.\"\"\"\n",
    "        result = \"Graph:\\n\"\n",
    "        for vertex, neighbors in self.adjacency_list.items():\n",
    "            result += f\"  {vertex} -> {neighbors}\\n\"\n",
    "        return result\n"
   ]
  },
  {
   "cell_type": "markdown",
   "id": "aa0e7da6",
   "metadata": {},
   "source": [
    "### Manual Testing (example usage evaluation)"
   ]
  },
  {
   "cell_type": "code",
   "execution_count": null,
   "id": "c9bf8684",
   "metadata": {},
   "outputs": [
    {
     "name": "stdout",
     "output_type": "stream",
     "text": [
      "Graph:\n",
      "  A -> ['B', 'C']\n",
      "  B -> ['C']\n",
      "  C -> ['D']\n",
      "  D -> []\n",
      "\n",
      "Vertices: ['A', 'B', 'C', 'D']\n",
      "Neighbors of A: ['B', 'C']\n",
      "Does A -> B exist? True\n",
      "After removing edge A->B:\n",
      "Graph:\n",
      "  A -> ['C']\n",
      "  B -> ['C']\n",
      "  C -> ['D']\n",
      "  D -> []\n",
      "\n",
      "After removing vertex C:\n",
      "Graph:\n",
      "  A -> []\n",
      "  B -> []\n",
      "  D -> []\n",
      "\n"
     ]
    }
   ],
   "source": [
    "if __name__ == \"__main__\":\n",
    "    g = Graph()\n",
    "    g.add_vertex(\"A\")\n",
    "    g.add_vertex(\"B\")\n",
    "    g.add_edge(\"A\", \"B\")\n",
    "    g.add_edge(\"A\", \"C\")\n",
    "    g.add_edge(\"B\", \"C\")\n",
    "    g.add_edge(\"C\", \"D\")\n",
    "\n",
    "    print(g)\n",
    "\n",
    "    print(\"Vertices:\", g.get_vertices())  # ['A', 'B', 'C', 'D']\n",
    "    print(\"Neighbors of A are:\", g.get_neighbors(\"A\"))  # ['B', 'C']\n",
    "    print(\"Does the relation A -> B exist?\", g.has_edge(\"A\", \"B\"))  # True\n",
    "\n",
    "    g.remove_edge(\"A\", \"B\")\n",
    "    print(\"After removing edge A->B:\")\n",
    "    print(g)\n",
    "\n",
    "    g.remove_vertex(\"C\")\n",
    "    print(\"After removing vertex C:\")\n",
    "    print(g)\n"
   ]
  },
  {
   "cell_type": "markdown",
   "id": "228423e1",
   "metadata": {},
   "source": [
    "### Automated Testing"
   ]
  },
  {
   "cell_type": "code",
   "execution_count": 16,
   "id": "5fa72e72",
   "metadata": {},
   "outputs": [
    {
     "name": "stderr",
     "output_type": "stream",
     "text": [
      "test_add_edge (__main__.TestGraph.test_add_edge) ... ok\n",
      "test_add_vertex (__main__.TestGraph.test_add_vertex) ... ok\n",
      "test_get_neighbors (__main__.TestGraph.test_get_neighbors) ... ok\n",
      "test_has_edge (__main__.TestGraph.test_has_edge) ... ok\n",
      "test_remove_edge (__main__.TestGraph.test_remove_edge) ... ok\n",
      "test_remove_vertex (__main__.TestGraph.test_remove_vertex) ... ok\n",
      "\n",
      "----------------------------------------------------------------------\n",
      "Ran 6 tests in 0.009s\n",
      "\n",
      "OK\n"
     ]
    }
   ],
   "source": [
    "class TestGraph(unittest.TestCase):\n",
    "    def setUp(self):\n",
    "        self.graph = Graph()\n",
    "        self.graph.add_edge(\"A\", \"B\")\n",
    "        self.graph.add_edge(\"A\", \"C\")\n",
    "        self.graph.add_edge(\"B\", \"D\")\n",
    "\n",
    "    def test_add_vertex(self):\n",
    "        self.graph.add_vertex(\"E\")\n",
    "        self.assertIn(\"E\", self.graph.get_vertices())\n",
    "\n",
    "    def test_add_edge(self):\n",
    "        self.graph.add_edge(\"E\", \"F\")\n",
    "        self.assertTrue(self.graph.has_edge(\"E\", \"F\"))\n",
    "\n",
    "    def test_remove_edge(self):\n",
    "        self.graph.remove_edge(\"A\", \"B\")\n",
    "        self.assertFalse(self.graph.has_edge(\"A\", \"B\"))\n",
    "\n",
    "    def test_remove_vertex(self):\n",
    "        self.graph.remove_vertex(\"C\")\n",
    "        self.assertNotIn(\"C\", self.graph.get_vertices())\n",
    "        self.assertNotIn(\"C\", self.graph.get_neighbors(\"A\"))\n",
    "\n",
    "    def test_get_neighbors(self):\n",
    "        self.assertListEqual(self.graph.get_neighbors(\"A\"), [\"B\", \"C\"])\n",
    "\n",
    "    def test_has_edge(self):\n",
    "        self.assertTrue(self.graph.has_edge(\"A\", \"B\"))\n",
    "        self.assertFalse(self.graph.has_edge(\"C\", \"A\"))\n",
    "\n",
    "if __name__ == \"__main__\":\n",
    "    unittest.main(argv=[''], verbosity=2, exit=False)\n"
   ]
  },
  {
   "cell_type": "code",
   "execution_count": null,
   "id": "278213db",
   "metadata": {},
   "outputs": [
    {
     "name": "stderr",
     "output_type": "stream",
     "text": [
      "usage: ipykernel_launcher.py [-h] [-v] [-q] [--locals] [--durations N] [-f]\n",
      "                             [-c] [-b] [-k TESTNAMEPATTERNS]\n",
      "                             [tests ...]\n",
      "ipykernel_launcher.py: error: argument -f/--failfast: ignored explicit argument 'c:\\\\Users\\\\Ramin\\\\AppData\\\\Roaming\\\\jupyter\\\\runtime\\\\kernel-v3e9d5f7b0e65d6c0b5f7879dbf61321cfc9c64607.json'\n"
     ]
    },
    {
     "ename": "SystemExit",
     "evalue": "2",
     "output_type": "error",
     "traceback": [
      "An exception has occurred, use %tb to see the full traceback.\n",
      "\u001b[31mSystemExit\u001b[39m\u001b[31m:\u001b[39m 2\n"
     ]
    }
   ],
   "source": [
    "class TestGraph(unittest.TestCase):\n",
    "    def setUp(self):\n",
    "        self.graph = Graph()\n",
    "        self.graph.add_edge(\"A\", \"B\")\n",
    "        self.graph.add_edge(\"A\", \"C\")\n",
    "        self.graph.add_edge(\"B\", \"D\")\n",
    "\n",
    "    def test_add_vertex(self):\n",
    "        self.graph.add_vertex(\"E\")\n",
    "        self.assertIn(\"E\", self.graph.get_vertices())\n",
    "\n",
    "    def test_add_edge(self):\n",
    "        self.graph.add_edge(\"E\", \"F\")\n",
    "        self.assertTrue(self.graph.has_edge(\"E\", \"F\"))\n",
    "        \n"
   ]
  },
  {
   "cell_type": "markdown",
   "id": "4e705deb",
   "metadata": {},
   "source": [
    "## Undirected Graph (using Adjacency List)\n",
    "\n",
    "Here a class is implemented for a directed graph using an adjacency list. It has methods like:\n",
    "\n",
    "- add_vertex()\n",
    "- add_edge()\n",
    "- remove_vertex()\n",
    "- remove_edge()\n",
    "- get_neighbors()\n"
   ]
  },
  {
   "cell_type": "markdown",
   "id": "62f256f1",
   "metadata": {},
   "source": [
    "### Class Implementation\n"
   ]
  },
  {
   "cell_type": "code",
   "execution_count": 6,
   "id": "584c84c4",
   "metadata": {},
   "outputs": [],
   "source": [
    "class UndirectedGraph:\n",
    "    def __init__(self):\n",
    "        self.adjacency_list = {}\n",
    "\n",
    "    def add_vertex(self, vertex):\n",
    "        if vertex not in self.adjacency_list:\n",
    "            self.adjacency_list[vertex] = []\n",
    "\n",
    "    def add_edge(self, v1, v2):\n",
    "        self.add_vertex(v1)\n",
    "        self.add_vertex(v2)\n",
    "        if v2 not in self.adjacency_list[v1]:\n",
    "            self.adjacency_list[v1].append(v2)\n",
    "        if v1 not in self.adjacency_list[v2]:\n",
    "            self.adjacency_list[v2].append(v1)\n",
    "\n",
    "    def remove_edge(self, v1, v2):\n",
    "        if v1 in self.adjacency_list and v2 in self.adjacency_list[v1]:\n",
    "            self.adjacency_list[v1].remove(v2)\n",
    "        if v2 in self.adjacency_list and v1 in self.adjacency_list[v2]:\n",
    "            self.adjacency_list[v2].remove(v1)\n",
    "\n",
    "    def remove_vertex(self, vertex):\n",
    "        if vertex in self.adjacency_list:\n",
    "            for neighbor in self.adjacency_list[vertex]:\n",
    "                self.adjacency_list[neighbor].remove(vertex)\n",
    "            del self.adjacency_list[vertex]\n",
    "\n",
    "    def get_neighbors(self, vertex):\n",
    "        return self.adjacency_list.get(vertex, [])\n",
    "\n",
    "    def __str__(self):\n",
    "        return \"\\n\".join(f\"{v}: {n}\" for v, n in self.adjacency_list.items())\n"
   ]
  },
  {
   "cell_type": "markdown",
   "id": "e30b4187",
   "metadata": {},
   "source": [
    "### Manual Testing (example evaluation)"
   ]
  },
  {
   "cell_type": "code",
   "execution_count": 7,
   "id": "555adc6a",
   "metadata": {},
   "outputs": [
    {
     "name": "stdout",
     "output_type": "stream",
     "text": [
      "Undirected Graph:\n",
      "A: ['B', 'C']\n",
      "B: ['A', 'C']\n",
      "C: ['A', 'B', 'D']\n",
      "D: ['C']\n",
      "\n",
      "After removing edge A-C:\n",
      "A: ['B']\n",
      "B: ['A', 'C']\n",
      "C: ['B', 'D']\n",
      "D: ['C']\n",
      "\n",
      "After removing vertex B:\n",
      "A: []\n",
      "C: ['D']\n",
      "D: ['C']\n"
     ]
    }
   ],
   "source": [
    "if __name__ == \"__main__\":\n",
    "    g = UndirectedGraph()\n",
    "    g.add_edge(\"A\", \"B\")\n",
    "    g.add_edge(\"A\", \"C\")\n",
    "    g.add_edge(\"B\", \"C\")\n",
    "    g.add_edge(\"C\", \"D\")\n",
    "    \n",
    "    print(\"Undirected Graph:\")\n",
    "    print(g)\n",
    "\n",
    "    g.remove_edge(\"A\", \"C\")\n",
    "    print(\"\\nAfter removing edge A-C:\")\n",
    "    print(g)\n",
    "\n",
    "    g.remove_vertex(\"B\")\n",
    "    print(\"\\nAfter removing vertex B:\")\n",
    "    print(g)\n",
    "\n"
   ]
  },
  {
   "cell_type": "markdown",
   "id": "8c31b815",
   "metadata": {},
   "source": [
    "## Directed Graph (using Adjacency Matrix)"
   ]
  },
  {
   "cell_type": "markdown",
   "id": "fdd2e4be",
   "metadata": {},
   "source": [
    "### Class Implementation"
   ]
  },
  {
   "cell_type": "code",
   "execution_count": 8,
   "id": "edd29b7f",
   "metadata": {},
   "outputs": [],
   "source": [
    "\n",
    "class DirectedGraphMatrix:\n",
    "    def __init__(self):\n",
    "        self.vertices = []\n",
    "        self.matrix = []\n",
    "\n",
    "    def add_vertex(self, vertex):\n",
    "        if vertex in self.vertices:\n",
    "            return\n",
    "        self.vertices.append(vertex)\n",
    "        for row in self.matrix:\n",
    "            row.append(0)\n",
    "        self.matrix.append([0] * len(self.vertices))\n",
    "\n",
    "    def add_edge(self, src, dest):\n",
    "        self.add_vertex(src)\n",
    "        self.add_vertex(dest)\n",
    "        i = self.vertices.index(src)\n",
    "        j = self.vertices.index(dest)\n",
    "        self.matrix[i][j] = 1\n",
    "\n",
    "    def remove_edge(self, src, dest):\n",
    "        if src in self.vertices and dest in self.vertices:\n",
    "            i = self.vertices.index(src)\n",
    "            j = self.vertices.index(dest)\n",
    "            self.matrix[i][j] = 0\n",
    "\n",
    "    def remove_vertex(self, vertex):\n",
    "        if vertex not in self.vertices:\n",
    "            return\n",
    "        idx = self.vertices.index(vertex)\n",
    "        self.vertices.pop(idx)\n",
    "        self.matrix.pop(idx)\n",
    "        for row in self.matrix:\n",
    "            row.pop(idx)\n",
    "\n",
    "    def has_edge(self, src, dest):\n",
    "        if src not in self.vertices or dest not in self.vertices:\n",
    "            return False\n",
    "        i = self.vertices.index(src)\n",
    "        j = self.vertices.index(dest)\n",
    "        return self.matrix[i][j] == 1\n",
    "\n",
    "    def __str__(self):\n",
    "        s = \"  \" + \" \".join(self.vertices) + \"\\n\"\n",
    "        for i, row in enumerate(self.matrix):\n",
    "            s += self.vertices[i] + \" \" + \" \".join(map(str, row)) + \"\\n\"\n",
    "        return s\n"
   ]
  },
  {
   "cell_type": "markdown",
   "id": "9c1ba639",
   "metadata": {},
   "source": [
    "### Manual Testing (evaluation with examples)"
   ]
  },
  {
   "cell_type": "code",
   "execution_count": 9,
   "id": "4a7d504e",
   "metadata": {},
   "outputs": [
    {
     "name": "stdout",
     "output_type": "stream",
     "text": [
      "Directed Graph (Adjacency Matrix):\n",
      "  A B C\n",
      "A 0 1 1\n",
      "B 0 0 1\n",
      "C 1 0 0\n",
      "\n",
      "\n",
      "After removing edge A->C:\n",
      "  A B C\n",
      "A 0 1 0\n",
      "B 0 0 1\n",
      "C 1 0 0\n",
      "\n",
      "\n",
      "After removing vertex B:\n",
      "  A C\n",
      "A 0 0\n",
      "C 1 0\n",
      "\n"
     ]
    }
   ],
   "source": [
    "if __name__ == \"__main__\":\n",
    "    g = DirectedGraphMatrix()\n",
    "    g.add_edge(\"A\", \"B\")\n",
    "    g.add_edge(\"A\", \"C\")\n",
    "    g.add_edge(\"B\", \"C\")\n",
    "    g.add_edge(\"C\", \"A\")\n",
    "\n",
    "    print(\"Directed Graph (Adjacency Matrix):\")\n",
    "    print(g)\n",
    "\n",
    "    g.remove_edge(\"A\", \"C\")\n",
    "    print(\"\\nAfter removing edge A->C:\")\n",
    "    print(g)\n",
    "\n",
    "    g.remove_vertex(\"B\")\n",
    "    print(\"\\nAfter removing vertex B:\")\n",
    "    print(g)\n"
   ]
  },
  {
   "cell_type": "markdown",
   "id": "b8217eaa",
   "metadata": {},
   "source": [
    "To verify if there is a path between two vertex we can use this function, or also we can include it as a method in the class.\n",
    "\n",
    "We use set for visited for speed and avoiding duplicates, and we use list for to_visit to keep order and be able to use 'pop' on it."
   ]
  },
  {
   "cell_type": "code",
   "execution_count": 28,
   "id": "e68cc3b7",
   "metadata": {},
   "outputs": [],
   "source": [
    "# to verify if there is a path between two vertex we can use this function, or also we can include it as a method in the class.\n",
    "\n",
    "def has_path_simple(graph, src, dest):\n",
    "    \"\"\"\n",
    "    Check if there's a path from src to dest in a directed graph (adjacency list).\n",
    "    This version is simple and intuitive — no recursion or complex algorithms.\n",
    "    \"\"\"\n",
    "\n",
    "    # First check if both nodes exist in the graph\n",
    "    if src not in graph or dest not in graph:\n",
    "        return False\n",
    "\n",
    "    # We'll use a list as a queue to keep track of where we can go next\n",
    "    to_visit = [src]\n",
    "\n",
    "    # We'll also keep track of nodes we've already checked to avoid loops\n",
    "    visited = set()\n",
    "\n",
    "    # Keep checking nodes until there are no more left\n",
    "    while to_visit:  \n",
    "        # Get the first node in the queue\n",
    "        current = to_visit.pop(0)\n",
    "\n",
    "        if current == dest:\n",
    "            # We found a path!\n",
    "            return True  \n",
    "\n",
    "        # Mark this node as visited so we don't visit it again\n",
    "        visited.add(current)\n",
    "\n",
    "        # Add all unvisited neighbors to the queue\n",
    "        for neighbor in graph.get(current, []):\n",
    "            if neighbor not in visited:\n",
    "                to_visit.append(neighbor)\n",
    "\n",
    "        print (f\"visited at current step is: {visited}\")\n",
    "\n",
    "    # If we went through everything and did not findd destination at all\n",
    "    return False\n"
   ]
  },
  {
   "cell_type": "code",
   "execution_count": 29,
   "id": "4fb835e1",
   "metadata": {},
   "outputs": [
    {
     "name": "stdout",
     "output_type": "stream",
     "text": [
      "visited at current step is: {'A'}\n",
      "visited at current step is: {'A', 'B'}\n",
      "visited at current step is: {'A', 'C', 'B'}\n",
      "visited at current step is: {'A', 'C', 'B'}\n",
      "Path A → D: True\n",
      "visited at current step is: {'D'}\n",
      "Path D → A: False\n"
     ]
    }
   ],
   "source": [
    "graph = {\n",
    "    \"A\": [\"B\", \"C\"],\n",
    "    \"B\": [\"C\"],\n",
    "    \"C\": [\"D\", \"E\", \"F\"],\n",
    "    \"D\": []\n",
    "}\n",
    "\n",
    "print(\"Path A → D:\", has_path_simple(graph, \"A\", \"D\"))  # True\n",
    "print(\"Path D → A:\", has_path_simple(graph, \"D\", \"A\"))  # False\n"
   ]
  }
 ],
 "metadata": {
  "kernelspec": {
   "display_name": "Python 3",
   "language": "python",
   "name": "python3"
  },
  "language_info": {
   "codemirror_mode": {
    "name": "ipython",
    "version": 3
   },
   "file_extension": ".py",
   "mimetype": "text/x-python",
   "name": "python",
   "nbconvert_exporter": "python",
   "pygments_lexer": "ipython3",
   "version": "3.12.1"
  }
 },
 "nbformat": 4,
 "nbformat_minor": 5
}
