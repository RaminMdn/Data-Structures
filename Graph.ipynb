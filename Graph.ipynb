{
 "cells": [
  {
   "cell_type": "markdown",
   "id": "5ebf661d",
   "metadata": {},
   "source": [
    "# Graph\n",
    "\n",
    "\n",
    "## Graph Class Implementation"
   ]
  },
  {
   "cell_type": "code",
   "execution_count": null,
   "id": "60977565",
   "metadata": {},
   "outputs": [],
   "source": [
    "import unittest"
   ]
  },
  {
   "cell_type": "code",
   "execution_count": null,
   "id": "95ebec32",
   "metadata": {},
   "outputs": [],
   "source": [
    "class Graph:\n",
    "    def __init__(self):\n",
    "        \"\"\"Initialize an empty graph (directed).\"\"\"\n",
    "        self.adjacency_list = {}\n",
    "\n",
    "    def add_vertex(self, vertex):\n",
    "        \"\"\"Add a vertex to the graph.\"\"\"\n",
    "        if vertex not in self.adjacency_list:\n",
    "            self.adjacency_list[vertex] = []\n",
    "\n",
    "    def add_edge(self, src, dest):\n",
    "        \"\"\"Add a directed edge from src to dest.\"\"\"\n",
    "        if src not in self.adjacency_list:\n",
    "            self.add_vertex(src)\n",
    "        if dest not in self.adjacency_list:\n",
    "            self.add_vertex(dest)\n",
    "        self.adjacency_list[src].append(dest)\n",
    "\n",
    "    def remove_edge(self, src, dest):\n",
    "        \"\"\"Remove an edge from src to dest.\"\"\"\n",
    "        if src in self.adjacency_list and dest in self.adjacency_list[src]:\n",
    "            self.adjacency_list[src].remove(dest)\n",
    "\n",
    "    def remove_vertex(self, vertex):\n",
    "        \"\"\"Remove a vertex and all edges to and from it.\"\"\"\n",
    "        if vertex in self.adjacency_list:\n",
    "            del self.adjacency_list[vertex]\n",
    "        for neighbors in self.adjacency_list.values():\n",
    "            if vertex in neighbors:\n",
    "                neighbors.remove(vertex)\n",
    "\n",
    "    def has_edge(self, src, dest):\n",
    "        \"\"\"Check if an edge exists from src to dest.\"\"\"\n",
    "        return src in self.adjacency_list and dest in self.adjacency_list[src]\n",
    "\n",
    "    def get_neighbors(self, vertex):\n",
    "        \"\"\"Return the neighbors of a given vertex.\"\"\"\n",
    "        return self.adjacency_list.get(vertex, [])\n",
    "\n",
    "    def get_vertices(self):\n",
    "        \"\"\"Return a list of all vertices in the graph.\"\"\"\n",
    "        return list(self.adjacency_list.keys())\n",
    "\n",
    "    def __str__(self):\n",
    "        \"\"\"Return a string representation of the graph.\"\"\"\n",
    "        result = \"Graph:\\n\"\n",
    "        for vertex, neighbors in self.adjacency_list.items():\n",
    "            result += f\"  {vertex} -> {neighbors}\\n\"\n",
    "        return result\n"
   ]
  },
  {
   "cell_type": "markdown",
   "id": "aa0e7da6",
   "metadata": {},
   "source": [
    "## Manual Testing (example usage evaluation)"
   ]
  },
  {
   "cell_type": "code",
   "execution_count": null,
   "id": "c9bf8684",
   "metadata": {},
   "outputs": [],
   "source": [
    "if __name__ == \"__main__\":\n",
    "    g = Graph()\n",
    "    g.add_vertex(\"A\")\n",
    "    g.add_vertex(\"B\")\n",
    "    g.add_edge(\"A\", \"B\")\n",
    "    g.add_edge(\"A\", \"C\")\n",
    "    g.add_edge(\"B\", \"C\")\n",
    "    g.add_edge(\"C\", \"D\")\n",
    "\n",
    "    print(g)\n",
    "\n",
    "    print(\"Vertices:\", g.get_vertices())  # ['A', 'B', 'C', 'D']\n",
    "    print(\"Neighbors of A:\", g.get_neighbors(\"A\"))  # ['B', 'C']\n",
    "    print(\"Does A -> B exist?\", g.has_edge(\"A\", \"B\"))  # True\n",
    "\n",
    "    g.remove_edge(\"A\", \"B\")\n",
    "    print(\"After removing edge A->B:\")\n",
    "    print(g)\n",
    "\n",
    "    g.remove_vertex(\"C\")\n",
    "    print(\"After removing vertex C:\")\n",
    "    print(g)\n"
   ]
  },
  {
   "cell_type": "markdown",
   "id": "228423e1",
   "metadata": {},
   "source": [
    "## Automated Testing"
   ]
  },
  {
   "cell_type": "code",
   "execution_count": null,
   "id": "5fa72e72",
   "metadata": {},
   "outputs": [],
   "source": [
    "class TestGraph(unittest.TestCase):\n",
    "    def setUp(self):\n",
    "        self.graph = Graph()\n",
    "        self.graph.add_edge(\"A\", \"B\")\n",
    "        self.graph.add_edge(\"A\", \"C\")\n",
    "        self.graph.add_edge(\"B\", \"D\")\n",
    "\n",
    "    def test_add_vertex(self):\n",
    "        self.graph.add_vertex(\"E\")\n",
    "        self.assertIn(\"E\", self.graph.get_vertices())\n",
    "\n",
    "    def test_add_edge(self):\n",
    "        self.graph.add_edge(\"E\", \"F\")\n",
    "        self.assertTrue(self.graph.has_edge(\"E\", \"F\"))\n",
    "\n",
    "    def test_remove_edge(self):\n",
    "        self.graph.remove_edge(\"A\", \"B\")\n",
    "        self.assertFalse(self.graph.has_edge(\"A\", \"B\"))\n",
    "\n",
    "    def test_remove_vertex(self):\n",
    "        self.graph.remove_vertex(\"C\")\n",
    "        self.assertNotIn(\"C\", self.graph.get_vertices())\n",
    "        self.assertNotIn(\"C\", self.graph.get_neighbors(\"A\"))\n",
    "\n",
    "    def test_get_neighbors(self):\n",
    "        self.assertListEqual(self.graph.get_neighbors(\"A\"), [\"B\", \"C\"])\n",
    "\n",
    "    def test_has_edge(self):\n",
    "        self.assertTrue(self.graph.has_edge(\"A\", \"B\"))\n",
    "        self.assertFalse(self.graph.has_edge(\"C\", \"A\"))\n",
    "\n",
    "if __name__ == \"__main__\":\n",
    "    unittest.main()\n"
   ]
  }
 ],
 "metadata": {
  "language_info": {
   "name": "python"
  }
 },
 "nbformat": 4,
 "nbformat_minor": 5
}
